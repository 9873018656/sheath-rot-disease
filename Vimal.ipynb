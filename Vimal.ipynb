{
 "cells": [
  {
   "cell_type": "code",
   "execution_count": 18,
   "id": "5b33b8e0",
   "metadata": {},
   "outputs": [],
   "source": [
    "import math\n",
    "from sympy import * .\n",
    "import numpy as np\n",
    "import pandas as pd"
   ]
  },
  {
   "cell_type": "code",
   "execution_count": 19,
   "id": "e16a12c2",
   "metadata": {},
   "outputs": [],
   "source": [
    "x, y, a, b, c = symbols('x y a b c')"
   ]
  },
  {
   "cell_type": "code",
   "execution_count": 89,
   "id": "ac486673",
   "metadata": {},
   "outputs": [],
   "source": [
    "F=((a-x)/(a-c))*(((x-b)/(c-b))**((c-b)/(a-b)))#a=upper, opt=c, lower=b, x=T, ['**' means '^']\n",
    "\n",
    "\n"
   ]
  },
  {
   "cell_type": "code",
   "execution_count": 90,
   "id": "649bc6e9",
   "metadata": {},
   "outputs": [],
   "source": [
    "F1=diff(F,x)"
   ]
  },
  {
   "cell_type": "code",
   "execution_count": 91,
   "id": "7f99700b",
   "metadata": {},
   "outputs": [],
   "source": [
    "F2=F1.subs(Symbol(\"a\"), 38)\n",
    "F2=F2.subs(Symbol(\"b\"), 10)\n",
    "F2=F2.subs(Symbol(\"c\"), 30)\n"
   ]
  },
  {
   "cell_type": "code",
   "execution_count": 92,
   "id": "726b8685",
   "metadata": {},
   "outputs": [
    {
     "data": {
      "text/latex": [
       "$\\displaystyle \\frac{5 \\cdot \\left(38 - x\\right) \\left(\\frac{x}{20} - \\frac{1}{2}\\right)^{\\frac{5}{7}}}{56 \\left(x - 10\\right)} - \\frac{\\left(\\frac{x}{20} - \\frac{1}{2}\\right)^{\\frac{5}{7}}}{8}$"
      ],
      "text/plain": [
       "5*(38 - x)*(x/20 - 1/2)**(5/7)/(56*(x - 10)) - (x/20 - 1/2)**(5/7)/8"
      ]
     },
     "execution_count": 92,
     "metadata": {},
     "output_type": "execute_result"
    }
   ],
   "source": [
    "F2"
   ]
  },
  {
   "cell_type": "code",
   "execution_count": 94,
   "id": "4c006581",
   "metadata": {},
   "outputs": [],
   "source": [
    "F3=solve(F2)"
   ]
  },
  {
   "cell_type": "code",
   "execution_count": 96,
   "id": "4569b9e0",
   "metadata": {},
   "outputs": [
    {
     "data": {
      "text/plain": [
       "[65/3]"
      ]
     },
     "execution_count": 96,
     "metadata": {},
     "output_type": "execute_result"
    }
   ],
   "source": [
    "F3"
   ]
  },
  {
   "cell_type": "code",
   "execution_count": 109,
   "id": "249d8e9e",
   "metadata": {},
   "outputs": [],
   "source": [
    "F4=float(F3[0])"
   ]
  },
  {
   "cell_type": "code",
   "execution_count": 119,
   "id": "c7fd1803",
   "metadata": {},
   "outputs": [
    {
     "data": {
      "text/plain": [
       "21.666666666666668"
      ]
     },
     "execution_count": 119,
     "metadata": {},
     "output_type": "execute_result"
    }
   ],
   "source": [
    "F4"
   ]
  },
  {
   "cell_type": "code",
   "execution_count": 100,
   "id": "4d2775ba",
   "metadata": {},
   "outputs": [],
   "source": [
    "rice=pd.read_excel('C:\\\\Users\\\\Admin\\\\Desktop\\\\data file.xlsx') #For 90 data points"
   ]
  },
  {
   "cell_type": "code",
   "execution_count": 102,
   "id": "3bcb2c47",
   "metadata": {},
   "outputs": [],
   "source": [
    "rice1=rice[\"T\"]"
   ]
  },
  {
   "cell_type": "code",
   "execution_count": 104,
   "id": "4e92c738",
   "metadata": {},
   "outputs": [],
   "source": [
    "rice1=rice1.sort_values(ascending=False)\n"
   ]
  },
  {
   "cell_type": "code",
   "execution_count": 106,
   "id": "a9ff7e7e",
   "metadata": {},
   "outputs": [
    {
     "data": {
      "text/plain": [
       "55    334.0\n",
       "46     34.0\n",
       "52     34.0\n",
       "59     34.0\n",
       "54     34.0\n",
       "Name: T, dtype: float64"
      ]
     },
     "execution_count": 106,
     "metadata": {},
     "output_type": "execute_result"
    }
   ],
   "source": [
    "rice1.head()"
   ]
  },
  {
   "cell_type": "code",
   "execution_count": 107,
   "id": "dc354bdf",
   "metadata": {},
   "outputs": [],
   "source": [
    "m=rice1.median()"
   ]
  },
  {
   "cell_type": "code",
   "execution_count": 108,
   "id": "9f5aa9d5",
   "metadata": {},
   "outputs": [
    {
     "data": {
      "text/plain": [
       "30.0"
      ]
     },
     "execution_count": 108,
     "metadata": {},
     "output_type": "execute_result"
    }
   ],
   "source": [
    "m"
   ]
  },
  {
   "cell_type": "code",
   "execution_count": 117,
   "id": "699712e6",
   "metadata": {},
   "outputs": [],
   "source": [
    "opt=30"
   ]
  },
  {
   "cell_type": "code",
   "execution_count": 130,
   "id": "2f63968e",
   "metadata": {},
   "outputs": [],
   "source": [
    "if  m<=F4:\n",
    "    preds=\"Decision is likely increase.\"\n",
    "elif m>=opt:\n",
    "     preds=\"Decision is likely decrease.\"\n",
    "elif F4<m<opt:\n",
    "     preds=\"Likely marginal increase.\"\n"
   ]
  },
  {
   "cell_type": "code",
   "execution_count": 131,
   "id": "6993bdd5",
   "metadata": {},
   "outputs": [
    {
     "data": {
      "text/plain": [
       "'Decision is likely decrease.'"
      ]
     },
     "execution_count": 131,
     "metadata": {},
     "output_type": "execute_result"
    }
   ],
   "source": [
    "preds"
   ]
  },
  {
   "cell_type": "code",
   "execution_count": null,
   "id": "2120a84a",
   "metadata": {},
   "outputs": [],
   "source": []
  }
 ],
 "metadata": {
  "kernelspec": {
   "display_name": "Python 3 (ipykernel)",
   "language": "python",
   "name": "python3"
  },
  "language_info": {
   "codemirror_mode": {
    "name": "ipython",
    "version": 3
   },
   "file_extension": ".py",
   "mimetype": "text/x-python",
   "name": "python",
   "nbconvert_exporter": "python",
   "pygments_lexer": "ipython3",
   "version": "3.7.4"
  }
 },
 "nbformat": 4,
 "nbformat_minor": 5
}
